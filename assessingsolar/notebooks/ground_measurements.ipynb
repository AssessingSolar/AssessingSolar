{
 "cells": [
  {
   "cell_type": "markdown",
   "metadata": {},
   "source": [
    "# Ground-based solar irradiance data\n",
    "\n",
    "Ground-based solar irradiance measurements have the potential to be the most accurate way of quantifying the local solar resource. This makes these measurements extremely useful for benchmarking the accuracy of satellite and reanalysis solar irradiance datasets and for developing solar radiation models.\n",
    "\n",
    "An overview of multi-component solar radiation monitoring stations is available at [SolarStations.org](https://solarstations.org)."
   ]
  },
  {
   "cell_type": "code",
   "execution_count": null,
   "metadata": {},
   "outputs": [],
   "source": []
  }
 ],
 "metadata": {
  "kernelspec": {
   "display_name": "Python 3 (ipykernel)",
   "language": "python",
   "name": "python3"
  },
  "language_info": {
   "codemirror_mode": {
    "name": "ipython",
    "version": 3
   },
   "file_extension": ".py",
   "mimetype": "text/x-python",
   "name": "python",
   "nbconvert_exporter": "python",
   "pygments_lexer": "ipython3",
   "version": "3.11.7"
  }
 },
 "nbformat": 4,
 "nbformat_minor": 4
}
